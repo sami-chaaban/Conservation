{
 "cells": [
  {
   "cell_type": "markdown",
   "metadata": {},
   "source": [
    "## Prerequisites\n",
    "1. Align all sequences aligned to each other to account for insertions and deletions. Gaps will be generated with dashes '-'.\n",
    "2. Split the file into two separate fasta files for each group.\n",
    "\n",
    "***Example:***\n",
    "\n",
    "**C1-mammal-clust.fasta**<br />\n",
    "\\>DCX_DC1_Homo-sapiens_O43602_53-139<br />\n",
    "KKVRFYRNGDRYFKGIVYAVSSDRFRSFDALLADLTR-----------------SLSDNINLPQGVRYIYTI\n",
    "DGSRKIGSMDELEEGESYVCSSDNFFKKVEYT<br />\n",
    "\\>DCLK1_DC1_Homo-sapiens_O15075_57-143<br />\n",
    "KKVRFYRNGDRYFKGIVYAISPDRFRSFEALLADLTR-----------------TLSDNVNLPQGVRTIYTI\n",
    "DGLKKISSLDQLVEGESYVCGSIEPFKKLEYT<br />\n",
    "\\>DCLK2_DC1_Homo-sapiens_Q8N568_72-158<br />\n",
    "KKARFYRNGDRYFKGLVFAISSDRFRSFDALLIELTR-----------------SLSDNVNLPQGVRTIYTI\n",
    "DGSRKVTSLDELLEGESYVCASNEPFRKVDYT<br />\n",
    "\\>DCLK2_DC1_Mus-musculus_Q6PGN3_72-158<br />\n",
    "KKARFYRNGDRYFKGLVFAISNDRFRSFDALLIELTR-----------------SLSDNVNLPQGVRTIYTI\n",
    "DGSRKVTSLDELLEGESYVCASNEPFRKVDYT<br />\n",
    "\\>DCLK1_DC1_Mus-musculus_Q9JLM8_57-143<br />\n",
    "KKVRFYRNGDRYFKGIVYAISPDRFRSFEALLADLTR-----------------TLSDNVNLPQGVRTIYTI\n",
    "DGLKKISSLDQLVEGESYVCGSIEPFKKLEYT<br />\n",
    "\\>DCX_DC1_Mus-musculus_O88809_53-139<br />\n",
    "KKVRFYRNGDRYFKGIVYAVSSDRFRSFDALLADLTR-----------------SLSDNINLPQGVRYIYTI\n",
    "DGSRKIGSMDELEEGESYVCSSDNFFKKVEYT<br />\n",
    "    \n",
    "**C1-worm-clust.fasta**<br />\n",
    "\\>DCLK_DC1_Caenorhabditis-Elegans_Q95QC4_211-298<br />\n",
    "KRLRFYRNGDQYFKGIQYALQSDRVKSMQPLMEDLMK----------------TVICDSTALPHGIRHIFTI\n",
    "DGAQRITSVDQFEDGGGYVCSSTDAFKPVDYS<br />\n",
    "\\>DCLK_DC1_Ascaris-suum_F1KWN8_154-240<br />\n",
    "KRVRFFRNGDQYFKGMWYAISAERVRSFQALLCDLTR-----------------TMSDASNLPHGVRHVFSM\n",
    "DGSQKISSLDDFQDGEGYVCSSSETYKRVDYE<br />\n",
    "\\>DCLK_DC1_Toxocara-canis_A0A0B2UYU4_170-256<br />\n",
    "KRVRFFRNGDQYFKGMWYAISAERVRSFQALLCDLTR-----------------TMSDASNLPHGVRHIFSM\n",
    "DGTQKISTLEEFQDGEGYVCSSSEVYKRVDYE<br />\n",
    "\\>DCLK_DC1_Caenorhabditis-briggsae_A8XT66-212-315<br />\n",
    "KRLRFYRNGDQYFKGIPYALQCDRVKSMQPLMEELMKVIFKKYICQFIITLFQTVICDSTALPHGIRHIFTM\n",
    "DGTQRITSVDQFEDGGGYVCSSTDVFKPVDYS<br />"
   ]
  },
  {
   "cell_type": "markdown",
   "metadata": {},
   "source": [
    "-----------------------------"
   ]
  },
  {
   "cell_type": "markdown",
   "metadata": {},
   "source": [
    "## Step 1\n",
    "\n",
    "First, we want to load these sequences using *AlignIO* from the Bio package.\n",
    "\n",
    "If you get an error saying *no module named Bio* , install it with ***`pip3 install biopython`*** in the terminal."
   ]
  },
  {
   "cell_type": "code",
   "execution_count": 1,
   "metadata": {},
   "outputs": [
    {
     "name": "stdout",
     "output_type": "stream",
     "text": [
      "Alignment 1:\n",
      "\n",
      "Alignment with 6 rows and 104 columns\n",
      "KKVRFYRNGDRYFKGIVYAVSSDRFRSFDALLADLTR-------...EYT DCX_DC1_Homo-sapiens_O43602_53-139\n",
      "KKVRFYRNGDRYFKGIVYAISPDRFRSFEALLADLTR-------...EYT DCLK1_DC1_Homo-sapiens_O15075_57-143\n",
      "KKARFYRNGDRYFKGLVFAISSDRFRSFDALLIELTR-------...DYT DCLK2_DC1_Homo-sapiens_Q8N568_72-158\n",
      "KKARFYRNGDRYFKGLVFAISNDRFRSFDALLIELTR-------...DYT DCLK2_DC1_Mus-musculus_Q6PGN3_72-158\n",
      "KKVRFYRNGDRYFKGIVYAISPDRFRSFEALLADLTR-------...EYT DCLK1_DC1_Mus-musculus_Q9JLM8_57-143\n",
      "KKVRFYRNGDRYFKGIVYAVSSDRFRSFDALLADLTR-------...EYT DCX_DC1_Mus-musculus_O88809_53-139\n",
      "\n",
      "Alignment 2:\n",
      "\n",
      "Alignment with 4 rows and 104 columns\n",
      "KRLRFYRNGDQYFKGIQYALQSDRVKSMQPLMEDLMK-------...DYS DCLK_DC1_Caenorhabditis-Elegans_Q95QC4_211-298\n",
      "KRVRFFRNGDQYFKGMWYAISAERVRSFQALLCDLTR-------...DYE DCLK_DC1_Ascaris-suum_F1KWN8_154-240\n",
      "KRVRFFRNGDQYFKGMWYAISAERVRSFQALLCDLTR-------...DYE DCLK_DC1_Toxocara-canis_A0A0B2UYU4_170-256\n",
      "KRLRFYRNGDQYFKGIPYALQCDRVKSMQPLMEELMKVIFKKYI...DYS DCLK_DC1_Caenorhabditis-briggsae_A8XT66-212-315\n"
     ]
    }
   ],
   "source": [
    "################\n",
    "\n",
    "#Import the package\n",
    "from Bio import AlignIO\n",
    "\n",
    "################\n",
    "\n",
    "#Load alignment1\n",
    "alignment1 = AlignIO.read(\"../PWM DC1/Mam v Worm/DC1-mammal-clust.fasta\", \"fasta\")\n",
    "\n",
    "#Load alignment2\n",
    "alignment2 = AlignIO.read(\"../PWM DC1/Mam v Worm/DC1-worm-clust.fasta\", \"fasta\")\n",
    "\n",
    "################\n",
    "\n",
    "#Show what was loaded\n",
    "print(\"Alignment 1:\\n\")\n",
    "print(alignment1)\n",
    "print(\"\\nAlignment 2:\\n\")\n",
    "print(alignment2)"
   ]
  },
  {
   "cell_type": "markdown",
   "metadata": {},
   "source": [
    "-----------------------------"
   ]
  },
  {
   "cell_type": "markdown",
   "metadata": {},
   "source": [
    "## Step 2\n",
    "\n",
    "The goal is to be able to use Biopython to create the PWM for us. Biopython requires the sequences be *motif* objects before it can generate a PWM. This step serves no function other than to convert the sequences into something that can be converted to motifs in the next step. It requires *MutableSeq* to convert the sequence record."
   ]
  },
  {
   "cell_type": "code",
   "execution_count": 2,
   "metadata": {},
   "outputs": [
    {
     "name": "stdout",
     "output_type": "stream",
     "text": [
      "First record in alignment 1:\n",
      "\n",
      "KKVRFYRNGDRYFKGIVYAVSSDRFRSFDALLADLTR-----------------SLSDNINLPQGVRYIYTIDGSRKIGSMDELEEGESYVCSSDNFFKKVEYT\n",
      "\n",
      "First record in alignment 2:\n",
      "\n",
      "KRLRFYRNGDQYFKGIQYALQSDRVKSMQPLMEDLMK----------------TVICDSTALPHGIRHIFTIDGAQRITSVDQFEDGGGYVCSSTDAFKPVDYS\n"
     ]
    }
   ],
   "source": [
    "################\n",
    "\n",
    "#Import the package\n",
    "from Bio.Seq import MutableSeq\n",
    "\n",
    "################\n",
    "\n",
    "## Work on the first set\n",
    "\n",
    "## Initialize an empty list to load with the sequences from alignment1\n",
    "sequences1 = []\n",
    "\n",
    "## Iterate through every record in alignment1\n",
    "for seq_record in alignment1:\n",
    "    \n",
    "    #Convert the sequence and append it to the sequences1 list\n",
    "    sequences1.append(MutableSeq(str(seq_record.seq)))\n",
    "\n",
    "################\n",
    "\n",
    "## Repeat for the second set\n",
    "    \n",
    "sequences2 = []\n",
    "\n",
    "for seq_record in alignment2:\n",
    "    \n",
    "    sequences2.append(MutableSeq(str(seq_record.seq)))\n",
    "    \n",
    "################\n",
    "\n",
    "## Just to be sure, let's look at the first record of each set to see that it's correct.\n",
    "\n",
    "print(\"First record in alignment 1:\\n\")\n",
    "print(sequences1[0])\n",
    "print(\"\\nFirst record in alignment 2:\\n\")\n",
    "print(sequences2[0])"
   ]
  },
  {
   "cell_type": "markdown",
   "metadata": {},
   "source": [
    "-----------------------------"
   ]
  },
  {
   "cell_type": "markdown",
   "metadata": {},
   "source": [
    "## Step 3\n",
    "\n",
    "We can now convert these lists of sequences to motifs to then easily generate a PWM."
   ]
  },
  {
   "cell_type": "code",
   "execution_count": 3,
   "metadata": {},
   "outputs": [
    {
     "name": "stdout",
     "output_type": "stream",
     "text": [
      "Probability of Alanine in alignment 1:\n",
      "\n",
      "(0.0, 0.0, 0.3333333333333333, 0.0, 0.0, 0.0, 0.0, 0.0, 0.0, 0.0, 0.0, 0.0, 0.0, 0.0, 0.0, 0.0, 0.0, 0.0, 1.0, 0.0, 0.0, 0.0, 0.0, 0.0, 0.0, 0.0, 0.0, 0.0, 0.0, 1.0, 0.0, 0.0, 0.6666666666666666, 0.0, 0.0, 0.0, 0.0, 0.0, 0.0, 0.0, 0.0, 0.0, 0.0, 0.0, 0.0, 0.0, 0.0, 0.0, 0.0, 0.0, 0.0, 0.0, 0.0, 0.0, 0.0, 0.0, 0.0, 0.0, 0.0, 0.0, 0.0, 0.0, 0.0, 0.0, 0.0, 0.0, 0.0, 0.0, 0.0, 0.0, 0.0, 0.0, 0.0, 0.0, 0.0, 0.0, 0.0, 0.0, 0.0, 0.0, 0.0, 0.0, 0.0, 0.0, 0.0, 0.0, 0.0, 0.0, 0.0, 0.0, 0.0, 0.0, 0.3333333333333333, 0.0, 0.0, 0.0, 0.0, 0.0, 0.0, 0.0, 0.0, 0.0, 0.0, 0.0)\n",
      "\n",
      "Probability of Alanine in alignment 2:\n",
      "\n",
      "(0.0, 0.0, 0.0, 0.0, 0.0, 0.0, 0.0, 0.0, 0.0, 0.0, 0.0, 0.0, 0.0, 0.0, 0.0, 0.0, 0.0, 0.0, 1.0, 0.0, 0.0, 0.5, 0.0, 0.0, 0.0, 0.0, 0.0, 0.0, 0.0, 0.5, 0.0, 0.0, 0.0, 0.0, 0.0, 0.0, 0.0, 0.0, 0.0, 0.0, 0.0, 0.0, 0.0, 0.0, 0.0, 0.0, 0.0, 0.0, 0.0, 0.0, 0.0, 0.0, 0.0, 0.0, 0.0, 0.0, 0.0, 0.0, 0.5, 0.0, 0.5, 0.0, 0.0, 0.0, 0.0, 0.0, 0.0, 0.0, 0.0, 0.0, 0.0, 0.0, 0.0, 0.0, 0.25, 0.0, 0.0, 0.0, 0.0, 0.0, 0.0, 0.0, 0.0, 0.0, 0.0, 0.0, 0.0, 0.0, 0.0, 0.0, 0.0, 0.0, 0.0, 0.0, 0.0, 0.0, 0.25, 0.0, 0.0, 0.0, 0.0, 0.0, 0.0, 0.0)\n"
     ]
    }
   ],
   "source": [
    "################\n",
    "\n",
    "## Import the package\n",
    "from Bio import motifs\n",
    "\n",
    "################\n",
    "\n",
    "## The motifs package requires you tell it what the alphabet is for the sequence.\n",
    "## This is the alphabet for proteins, with a dash representing a gap.\n",
    "residue_alphabet = \"ACDEFGHIKLMNPQRSTVWY-\"\n",
    "\n",
    "################\n",
    "\n",
    "## Work on the first set\n",
    "\n",
    "## Convert the sequence list to motifs\n",
    "sequences1_to_motifs = motifs.create(sequences1, alphabet=residue_alphabet)\n",
    "\n",
    "## Get the PWM of this set of sequences\n",
    "sequences1_pwm = sequences1_to_motifs.pwm\n",
    "\n",
    "################\n",
    "\n",
    "## Repeat for the second set\n",
    "\n",
    "sequences2_to_motifs = motifs.create(sequences2, alphabet=residue_alphabet)\n",
    "\n",
    "sequences2_pwm = sequences2_to_motifs.pwm\n",
    "\n",
    "################\n",
    "\n",
    "## Let's look at what the probability of Alanine is for each sequence position, just to see if things are working.\n",
    "\n",
    "print(\"Probability of Alanine in alignment 1:\\n\")\n",
    "print(sequences1_pwm[\"A\"])\n",
    "print(\"\\nProbability of Alanine in alignment 2:\\n\")\n",
    "print(sequences2_pwm[\"A\"])"
   ]
  },
  {
   "cell_type": "markdown",
   "metadata": {},
   "source": [
    "-----------------------------"
   ]
  },
  {
   "cell_type": "markdown",
   "metadata": {},
   "source": [
    "## Step 4\n",
    "\n",
    "Now that we have two PWMs, we can calculate the similarity by multiplying the values for a sequence position in each PWM, and summing that for every residue type."
   ]
  },
  {
   "cell_type": "code",
   "execution_count": 4,
   "metadata": {},
   "outputs": [
    {
     "name": "stdout",
     "output_type": "stream",
     "text": [
      "Number of residues in the sequences:\n",
      "104\n",
      "Number of residue types:\n",
      "21\n"
     ]
    }
   ],
   "source": [
    "################\n",
    "\n",
    "## Check how many residues there are in the sequences (i.e. columns) and how many residue types there are (i.e. rows).\n",
    "## These will be used to know how to iterate through the PWMs.\n",
    "\n",
    "## Since the number of residues is equivalent for all the sequences,\n",
    "## we will just use the first record of the first sequence set to get the length.\n",
    "number_of_residues = len(sequences1[0])\n",
    "\n",
    "## The number of residue types is just the length of the residue_alphabet list \n",
    "number_of_residuetypes = len(residue_alphabet)\n",
    "\n",
    "## Let's double-check the result\n",
    "print(\"Number of residues in the sequences:\")\n",
    "print(number_of_residues)\n",
    "print(\"Number of residue types:\")\n",
    "print(number_of_residuetypes)"
   ]
  },
  {
   "cell_type": "code",
   "execution_count": 5,
   "metadata": {},
   "outputs": [
    {
     "name": "stdout",
     "output_type": "stream",
     "text": [
      "The calculated similarity for every residue in the sequence is:\n",
      "\n",
      "[100.0, 0.0, 33.33333333333333, 100.0, 100.0, 50.0, 100.0, 100.0, 100.0, 100.0, 0.0, 100.0, 100.0, 100.0, 100.0, 33.33333333333333, 0.0, 66.66666666666666, 100.0, 33.33333333333333, 50.0, 12.5, 50.0, 100.0, 0.0, 50.0, 100.0, 50.0, 0.0, 50.0, 100.0, 50.0, 0.0, 58.333333333333336, 100.0, 50.0, 50.0, 0.0, 0.0, 0.0, 0.0, 0.0, 0.0, 0.0, 0.0, 0.0, 0.0, 0.0, 0.0, 0.0, 0.0, 0.0, 0.0, 0.0, 16.666666666666664, 0.0, 50.0, 100.0, 0.0, 0.0, 50.0, 100.0, 100.0, 0.0, 100.0, 50.0, 100.0, 0.0, 75.0, 0.0, 50.0, 25.0, 100.0, 100.0, 16.666666666666664, 0.0, 50.0, 66.66666666666666, 33.33333333333333, 75.0, 33.33333333333333, 75.0, 33.33333333333333, 0.0, 16.666666666666664, 0.0, 100.0, 50.0, 0.0, 100.0, 100.0, 100.0, 33.33333333333333, 100.0, 0.0, 33.33333333333333, 0.0, 50.0, 66.66666666666666, 0.0, 66.66666666666666, 33.33333333333333, 100.0]\n"
     ]
    }
   ],
   "source": [
    "################\n",
    "\n",
    "## Initialize an empty list to load with the similarities that are calculated.\n",
    "## At every iteration, the calculate similarty for a column will get saved here.\n",
    "similarity_list = []\n",
    "\n",
    "## Iterate through every residue in the sequence (i.e. column)\n",
    "for residue_position in range(0,number_of_residues-1):\n",
    "    \n",
    "    # We will be sequentially summing the values, so we will initialize a variable to equal 0.\n",
    "    # Every time we go to a new residue position, the similarity will get re-initialized to 0.\n",
    "    similarity = 0\n",
    "    \n",
    "    ## Iterate through every residue type (i.e. row)\n",
    "    for residuetype_position in range(0,number_of_residuetypes-1):\n",
    "        \n",
    "        # First, the positions in each PWM is indexed using residue_position and residuetype_position\n",
    "        # Second, the yare multipled to each other.\n",
    "        # Third, the result is added to the similarity variable\n",
    "        similarity = similarity + sequences2_pwm[residuetype_position][residue_position]*sequences1_pwm[residuetype_position][residue_position]\n",
    "        \n",
    "    # Once all the residue types have dealt with (i.e. all rows have been multiplied and summed),\n",
    "    # this value is saved to the similarity_list variable.\n",
    "    # We want this as a percent, so the value is multiplied by 100.\n",
    "    similarity_list.append(similarity*100)\n",
    "\n",
    "################\n",
    "\n",
    "## Let's see what the result looks like.\n",
    "## It should be a list of values between 0 and 100.\n",
    "    \n",
    "print(\"The calculated similarity for every residue in the sequence is:\\n\")\n",
    "print(similarity_list)"
   ]
  },
  {
   "cell_type": "markdown",
   "metadata": {},
   "source": [
    "-----------------------------"
   ]
  },
  {
   "cell_type": "markdown",
   "metadata": {},
   "source": [
    "## Step 5\n",
    "\n",
    "Our next goal is to be able to map these numbers as colors onto an atomic model in Chimera. Since we will be using an atomic model, we have to make sure that the right similarity values get matched with the right residue in that atomic model. This means that we have to get rid of similarity values that were associated with gaps.\n",
    "\n",
    "* For example, if the PDB file has the sequence:<br />\n",
    "LSNEKKAKKVRFYRNGDRYFKGIVYAVSSDRFRSFDALLADLTRSLSDNINLPQGVRYIYTIDGSRKIGSMDELEEGESYVCSSDNFFKKVEYTK\n",
    "\n",
    "\n",
    "* ..and the sequence of the species you want to map after alignment is:<br />\n",
    "\\>DCX_DC1_Homo-sapiens_O43602_53-139<br />\n",
    "KKVRFYRNGDRYFKGIVYAVSSDRFRSFDALLADLTR**-----------------**SLSDNINLPQGVRYIYTIDGSRKIGSMDELEEGESYVCSSDNFFKKVEYT<br />\n",
    "\n",
    "\n",
    "* We have to get rid of the similarity values associated with those gaps (represented by dashes '-'):<br />\n",
    "100, 0, 33, 100, 100, 50, 100, 100, 100, 100, 0, 100, 100, 100, 100, 33, 0, 66, 100, 33, 50, 12, 50, 100, 0, 50, 100, 50, 0, 50, 100, 50, 0, 58, 100, 50, 50,**~~0, 0, 0, 0, 0, 0, 0, 0, 0, 0, 0, 0, 0, 0, 0, 0, 0,~~**16, 0, 50, 100, 0, 0, 50, 100, 100, 0, 100, 50, 100, 0, 75, 0, 50, 25, 100, 100, 16, 0, 50, 66, 33, 75, 33, 75, 33, 0, 16, 0, 100, 50, 0, 100, 100, 100, 33, 100, 0, 33, 0, 50, 66, 0, 66, 33, 100<br />"
   ]
  },
  {
   "cell_type": "code",
   "execution_count": 6,
   "metadata": {},
   "outputs": [
    {
     "name": "stdout",
     "output_type": "stream",
     "text": [
      "This is the record to use when writing out the similarity scores:\n",
      "\n",
      "DCX_DC1_Homo-sapiens_O43602_53-139\n",
      "KKVRFYRNGDRYFKGIVYAVSSDRFRSFDALLADLTR-----------------SLSDNINLPQGVRYIYTIDGSRKIGSMDELEEGESYVCSSDNFFKKVEYT\n"
     ]
    }
   ],
   "source": [
    "################\n",
    "\n",
    "## We want to source the sequence from the alignment that matches the PDB.\n",
    "## In this case, it is the first sequence in the first set (i.e. alignment1[0])\n",
    "\n",
    "sequence_id = alignment1[0].id\n",
    "\n",
    "sequence_to_write = alignment1[0].seq\n",
    "\n",
    "## Let's check that this is the right sequence\n",
    "\n",
    "print(\"This is the record to use when writing out the similarity scores:\\n\")\n",
    "print(sequence_id)\n",
    "print(sequence_to_write)"
   ]
  },
  {
   "cell_type": "code",
   "execution_count": 7,
   "metadata": {},
   "outputs": [
    {
     "name": "stdout",
     "output_type": "stream",
     "text": [
      "The calculated similarity matching record DCX_DC1_Homo-sapiens_O43602_53-139:\n",
      "\n",
      "[100.0, 0.0, 33.33333333333333, 100.0, 100.0, 50.0, 100.0, 100.0, 100.0, 100.0, 0.0, 100.0, 100.0, 100.0, 100.0, 33.33333333333333, 0.0, 66.66666666666666, 100.0, 33.33333333333333, 50.0, 12.5, 50.0, 100.0, 0.0, 50.0, 100.0, 50.0, 0.0, 50.0, 100.0, 50.0, 0.0, 58.333333333333336, 100.0, 50.0, 50.0, 16.666666666666664, 0.0, 50.0, 100.0, 0.0, 0.0, 50.0, 100.0, 100.0, 0.0, 100.0, 50.0, 100.0, 0.0, 75.0, 0.0, 50.0, 25.0, 100.0, 100.0, 16.666666666666664, 0.0, 50.0, 66.66666666666666, 33.33333333333333, 75.0, 33.33333333333333, 75.0, 33.33333333333333, 0.0, 16.666666666666664, 0.0, 100.0, 50.0, 0.0, 100.0, 100.0, 100.0, 33.33333333333333, 100.0, 0.0, 33.33333333333333, 0.0, 50.0, 66.66666666666666, 0.0, 66.66666666666666, 33.33333333333333, 100.0]\n"
     ]
    }
   ],
   "source": [
    "################\n",
    "\n",
    "## Initialize an empty list to load with the new similarity list for this sequence\n",
    "similarity_without_gaps = []\n",
    "\n",
    "## Iterate through every residue\n",
    "for residue_position in range(0,number_of_residues-1):\n",
    "    \n",
    "    # Only if the sequence in the alignment doesn't have a dash will we load the new similarity list\n",
    "    if sequence_to_write[residue_position] != \"-\":\n",
    "        \n",
    "        # Append the similarity value to the new list.\n",
    "        similarity_without_gaps.append(similarity_list[residue_position])\n",
    "        \n",
    "# This is the new list that matches the sequence ID from alignment1[0]\n",
    "\n",
    "print(\"The calculated similarity matching record \" + sequence_id + \":\\n\")\n",
    "print(similarity_without_gaps)"
   ]
  },
  {
   "cell_type": "markdown",
   "metadata": {},
   "source": [
    "-----------------------------"
   ]
  },
  {
   "cell_type": "markdown",
   "metadata": {},
   "source": [
    "## Step 6\n",
    "\n",
    "In order for Chimera to be able to read these values, we need to generate an attribute file. This is what the file needs to look like:\n",
    "\n",
    ">attribute: similarity<br />\n",
    "match mode: 1-to-1<br />\n",
    "recipient: residues<br />\n",
    "&nbsp;&nbsp;&nbsp;&nbsp;&nbsp;&nbsp;:53&nbsp;&nbsp;&nbsp;&nbsp;&nbsp;&nbsp;100<br />\n",
    "&nbsp;&nbsp;&nbsp;&nbsp;&nbsp;&nbsp;:54&nbsp;&nbsp;&nbsp;&nbsp;&nbsp;&nbsp;0<br />\n",
    "&nbsp;&nbsp;&nbsp;&nbsp;&nbsp;&nbsp;:55&nbsp;&nbsp;&nbsp;&nbsp;&nbsp;&nbsp;33<br />\n",
    "&nbsp;&nbsp;&nbsp;&nbsp;&nbsp;&nbsp;:56&nbsp;&nbsp;&nbsp;&nbsp;&nbsp;&nbsp;100<br />\n",
    "&nbsp;&nbsp;&nbsp;&nbsp;&nbsp;&nbsp;:57&nbsp;&nbsp;&nbsp;&nbsp;&nbsp;&nbsp;100<br />\n",
    "&nbsp;&nbsp;&nbsp;&nbsp;&nbsp;&nbsp;:58&nbsp;&nbsp;&nbsp;&nbsp;&nbsp;&nbsp;50<br />\n",
    "&nbsp;&nbsp;&nbsp;&nbsp;&nbsp;&nbsp;:59&nbsp;&nbsp;&nbsp;&nbsp;&nbsp;&nbsp;100<br />\n",
    "&nbsp;&nbsp;&nbsp;&nbsp;&nbsp;&nbsp;:60&nbsp;&nbsp;&nbsp;&nbsp;&nbsp;&nbsp;100<br />\n",
    "...\n",
    "    \n",
    "The following code will create this file. It's important that these values start at the right residue number (e.g. 53 above) so that it gets mached to the sequence properly. If you're not sure, open the PDB file in Chimera, check its sequence in *Tools > Sequence > Sequence*. Hover over the residue in the sequence window that your sequence starts at and check what it says at the bottom (e.g. LYS ***53***.I)."
   ]
  },
  {
   "cell_type": "code",
   "execution_count": 8,
   "metadata": {},
   "outputs": [],
   "source": [
    "################\n",
    "\n",
    "## This is the number that you want to start at.\n",
    "## Later on, this value will be used when writing out the file\n",
    "residue_number_tostart = 53\n",
    "\n",
    "## This is where the file will get saved.\n",
    "outputname = \"../PWM DC1/Mam v Worm/similarity-for-chimera.txt\"\n",
    "\n",
    "## In python, the file needs to be \"opened\" in order to be able to write to it.\n",
    "## We've specified that we're writing to it with the \"w\" argument below.\n",
    "## Importantly, it needs to be closed at the end with output.close()\n",
    "output = open(outputname,\"w\")\n",
    "\n",
    "## To match how Chimera reads this file, we need to first write some headers to the file.\n",
    "## The \\n indicates we want break to a new line after the phrases are written.\n",
    "output.write(\"attribute: similarity\\n\")\n",
    "output.write(\"match mode: 1-to-1\\n\")\n",
    "output.write(\"recipient: residues\\n\")\n",
    "\n",
    "## The number of similarity values now that we have removed those associated with gaps\n",
    "number_of_residues_without_gaps = len(similarity_without_gaps)\n",
    "\n",
    "## We will write each line one at a time\n",
    "for residue_number in range(0,number_of_residues_without_gaps-1):\n",
    "    \n",
    "    # Since the residue_number starts at 0, we will add the residue_number_tostart to this\n",
    "    current_residue_number = residue_number + residue_number_tostart\n",
    "    \n",
    "    # The similarity value associated with this residue\n",
    "    current_similarity = similarity_without_gaps[residue_number]\n",
    "    \n",
    "    # This is the line that we need to write\n",
    "    # \"\\t\" is a tab and \"\\n\" is a new line.\n",
    "    line_to_write = \"\\t:\" + str(current_residue_number) + \"\\t\" + str(current_similarity) + \"\\n\"\n",
    "    \n",
    "    # Finally, this generated line will get written to the file\n",
    "    output.write(line_to_write)\n",
    "    \n",
    "## We need to close the ouput file once we're done accessing it\n",
    "output.close()"
   ]
  },
  {
   "cell_type": "markdown",
   "metadata": {},
   "source": [
    "-----------------------------"
   ]
  },
  {
   "cell_type": "markdown",
   "metadata": {},
   "source": [
    "## Step 7\n",
    "\n",
    "This file is now ready to be loaded to Chimera (double check the file to make sure it looks right).\n",
    "\n",
    "1. Open the PDB file in Chimera.\n",
    "\n",
    "2. Show the command line with Favorites > Command Line\n",
    "\n",
    "3. Go to the right folder that contains the output file ***`cd ~/Documents/DCX Review/PWM DC1/Mam v Worm`***.\n",
    "\n",
    "4. Load the file as an attribute with ***`defattr similarity-for-chimera.txt spec #0`***.\n",
    "\n",
    "    * A new window opens that shows the histogram of values.\n",
    "    * Make sure the blue line is all the way at 0 and the red line is all the way at 100.\n",
    "    * You can change the color with the \"Palette\". You can also reverse the colors with \"Reverse threshold colors\".<br /><br />\n",
    "    \n",
    "5. Click Apply to color the model.\n",
    "\n",
    "    * Any residues that don't have a number associated with it will retain their original color. These residues can be hidden by selecting them and going to \"Actions > Atoms/Bonds > Hide\".<br /><br />\n",
    "    \n",
    "6. Show the surface by typing ***`surface #0`*** in the command line. It will be colored."
   ]
  },
  {
   "cell_type": "code",
   "execution_count": null,
   "metadata": {},
   "outputs": [],
   "source": []
  }
 ],
 "metadata": {
  "kernelspec": {
   "display_name": "Python 3",
   "language": "python",
   "name": "python3"
  },
  "language_info": {
   "codemirror_mode": {
    "name": "ipython",
    "version": 3
   },
   "file_extension": ".py",
   "mimetype": "text/x-python",
   "name": "python",
   "nbconvert_exporter": "python",
   "pygments_lexer": "ipython3",
   "version": "3.7.6"
  }
 },
 "nbformat": 4,
 "nbformat_minor": 4
}
